{
 "cells": [
  {
   "cell_type": "code",
   "execution_count": 1,
   "metadata": {},
   "outputs": [],
   "source": [
    "import os\n",
    "import numpy as np\n",
    "import librosa\n",
    "import librosa.display\n",
    "from tqdm import tqdm"
   ]
  },
  {
   "cell_type": "code",
   "execution_count": 2,
   "metadata": {},
   "outputs": [],
   "source": [
    "def preprocess_audio(file_path, sr=22050, duration=1.0, n_mels=128):\n",
    "    y, sr = librosa.load(file_path, sr=sr)\n",
    "    # Pad audio to ensure it's at least as long as the desired duration\n",
    "    if len(y) < sr * duration:\n",
    "        y = np.pad(y, (0, sr * duration - len(y)), mode='constant')\n",
    "    # Split into 1-second clips\n",
    "    clips = [y[i:i + sr] for i in range(0, len(y), sr)]\n",
    "    mel_spectrograms = []\n",
    "    for clip in clips:\n",
    "        mel_spec = librosa.feature.melspectrogram(y=clip, sr=sr, n_mels=n_mels)\n",
    "        mel_spec_db = librosa.power_to_db(mel_spec, ref=np.max)\n",
    "        mel_spectrograms.append(mel_spec_db)\n",
    "    return mel_spectrograms"
   ]
  },
  {
   "cell_type": "code",
   "execution_count": 3,
   "metadata": {},
   "outputs": [],
   "source": [
    "data_dir = 'C:/Users/SSAFY/Desktop/original_noise_data'"
   ]
  },
  {
   "cell_type": "code",
   "execution_count": 4,
   "metadata": {},
   "outputs": [],
   "source": [
    "# 전처리된 파일을 저장할 디렉토리 설정\n",
    "save_dir = \"C:/Users/SSAFY/Desktop/processed_noise_data\""
   ]
  },
  {
   "cell_type": "code",
   "execution_count": 5,
   "metadata": {},
   "outputs": [],
   "source": [
    "os.makedirs(save_dir, exist_ok=True)"
   ]
  },
  {
   "cell_type": "code",
   "execution_count": 6,
   "metadata": {},
   "outputs": [
    {
     "name": "stderr",
     "output_type": "stream",
     "text": [
      "  0%|          | 0/194 [00:00<?, ?it/s]"
     ]
    },
    {
     "name": "stderr",
     "output_type": "stream",
     "text": [
      "  2%|▏         | 4/194 [00:02<01:40,  1.89it/s]c:\\Users\\SSAFY\\anaconda3\\envs\\sound\\lib\\site-packages\\librosa\\core\\spectrum.py:266: UserWarning: n_fft=2048 is too large for input signal of length=1764\n",
      "  warnings.warn(\n",
      "  4%|▎         | 7/194 [00:02<00:49,  3.77it/s]c:\\Users\\SSAFY\\anaconda3\\envs\\sound\\lib\\site-packages\\librosa\\core\\spectrum.py:266: UserWarning: n_fft=2048 is too large for input signal of length=882\n",
      "  warnings.warn(\n",
      "100%|██████████| 194/194 [00:08<00:00, 22.48it/s]\n"
     ]
    }
   ],
   "source": [
    "# 모든 파일에 대해 멜 스펙트로그램 생성 및 저장\n",
    "for file_name in tqdm(os.listdir(data_dir)):\n",
    "    if file_name.endswith('.wav') or file_name.endswith('.mp3'):\n",
    "        file_path = os.path.join(data_dir, file_name)\n",
    "        mel_spectrograms = preprocess_audio(file_path)\n",
    "        base_name = os.path.splitext(file_name)[0]\n",
    "        for i, mel_spec in enumerate(mel_spectrograms):\n",
    "            save_path = os.path.join(save_dir, f'{base_name}_{i}.npy')\n",
    "            np.save(save_path, mel_spec)"
   ]
  },
  {
   "cell_type": "code",
   "execution_count": 7,
   "metadata": {},
   "outputs": [
    {
     "name": "stderr",
     "output_type": "stream",
     "text": [
      "100%|██████████| 1348/1348 [00:03<00:00, 391.19it/s]\n"
     ]
    }
   ],
   "source": [
    "import numpy as np\n",
    "\n",
    "def augment_audio(data):\n",
    "    augmented_data = []\n",
    "    \n",
    "    # Original\n",
    "    augmented_data.append(data)\n",
    "    \n",
    "    # Reverse\n",
    "    reversed_data = np.flipud(data)\n",
    "    augmented_data.append(reversed_data)\n",
    "    \n",
    "    # Vertical flip\n",
    "    flipped_data = np.fliplr(data)\n",
    "    augmented_data.append(flipped_data)\n",
    "    \n",
    "    # Gaussian noise\n",
    "    noise = np.random.normal(0, 0.1, data.shape)\n",
    "    noisy_data = data + noise\n",
    "    augmented_data.append(noisy_data)\n",
    "    \n",
    "    return augmented_data\n",
    "\n",
    "# 증강 데이터 저장 디렉터리 설정\n",
    "augmented_save_dir = 'C:/Users/SSAFY/Desktop/noise_augmented_mel_spectrograms'\n",
    "os.makedirs(augmented_save_dir, exist_ok=True)\n",
    "\n",
    "# 모든 멜 스펙트로그램 파일에 대해 데이터 증강\n",
    "for file_name in tqdm(os.listdir(save_dir)):\n",
    "    if file_name.endswith('.npy'):\n",
    "        file_path = os.path.join(save_dir, file_name)\n",
    "        data = np.load(file_path)\n",
    "        augmented_data = augment_audio(data)\n",
    "        base_name = os.path.splitext(file_name)[0]\n",
    "        for i, aug_data in enumerate(augmented_data):\n",
    "            save_path = os.path.join(augmented_save_dir, f'{base_name}_aug_{i}.npy')\n",
    "            np.save(save_path, aug_data)\n"
   ]
  },
  {
   "cell_type": "code",
   "execution_count": null,
   "metadata": {},
   "outputs": [],
   "source": []
  }
 ],
 "metadata": {
  "kernelspec": {
   "display_name": "sound",
   "language": "python",
   "name": "python3"
  },
  "language_info": {
   "codemirror_mode": {
    "name": "ipython",
    "version": 3
   },
   "file_extension": ".py",
   "mimetype": "text/x-python",
   "name": "python",
   "nbconvert_exporter": "python",
   "pygments_lexer": "ipython3",
   "version": "3.8.19"
  }
 },
 "nbformat": 4,
 "nbformat_minor": 2
}
