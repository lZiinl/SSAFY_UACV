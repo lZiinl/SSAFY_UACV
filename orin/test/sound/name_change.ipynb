{
 "cells": [
  {
   "cell_type": "code",
   "execution_count": 2,
   "metadata": {},
   "outputs": [],
   "source": [
    "import os\n",
    "\n",
    "ace_folder = 'C:/Users/SSAFY/Desktop/original_noise_audio/ACE_noise'\n",
    "akm_folder = 'C:/Users/SSAFY/Desktop/original_noise_audio/AKM_noise'\n",
    "aug_folder = 'C:/Users/SSAFY/Desktop/original_noise_audio/AUG_noise'\n",
    "m416_folder = 'C:/Users/SSAFY/Desktop/original_noise_audio/M416_noise'\n",
    "m762_folder = 'C:/Users/SSAFY/Desktop/original_noise_audio/M762_noise'\n",
    "scar_folder = 'C:/Users/SSAFY/Desktop/original_noise_audio/SCAR_noise'\n",
    "\n",
    "# ACE 폴더의 파일들의 파일명을 변경\n",
    "for idx, filename in enumerate(os.listdir(ace_folder)):\n",
    "    os.rename(os.path.join(ace_folder, filename), os.path.join(ace_folder, f'ACE_{idx+1:03d}.wav'))\n",
    "\n",
    "# AKM 폴더의 파일들의 파일명을 변경\n",
    "for idx, filename in enumerate(os.listdir(akm_folder)):\n",
    "    os.rename(os.path.join(akm_folder, filename), os.path.join(akm_folder, f'AKM_{idx+1:03d}.wav'))\n",
    "\n",
    "# AUG 폴더의 파일들의 파일명을 변경\n",
    "for idx, filename in enumerate(os.listdir(aug_folder)):\n",
    "    os.rename(os.path.join(aug_folder, filename), os.path.join(aug_folder, f'AUG_{idx+1:03d}.wav'))\n",
    "\n",
    "# M416 폴더의 파일들의 파일명을 변경\n",
    "for idx, filename in enumerate(os.listdir(m416_folder)):\n",
    "    os.rename(os.path.join(m416_folder, filename), os.path.join(m416_folder, f'M416_{idx+1:03d}.wav'))\n",
    "\n",
    "# M762 폴더의 파일들의 파일명을 변경\n",
    "for idx, filename in enumerate(os.listdir(m762_folder)):\n",
    "    os.rename(os.path.join(m762_folder, filename), os.path.join(m762_folder, f'M762_{idx+1:03d}.wav'))\n",
    "\n",
    "# SCAR 폴더의 파일들의 파일명을 변경\n",
    "for idx, filename in enumerate(os.listdir(scar_folder)):\n",
    "    os.rename(os.path.join(scar_folder, filename), os.path.join(scar_folder, f'SCAR_{idx+1:03d}.wav'))"
   ]
  },
  {
   "cell_type": "code",
   "execution_count": null,
   "metadata": {},
   "outputs": [],
   "source": []
  }
 ],
 "metadata": {
  "kernelspec": {
   "display_name": "sound",
   "language": "python",
   "name": "python3"
  },
  "language_info": {
   "codemirror_mode": {
    "name": "ipython",
    "version": 3
   },
   "file_extension": ".py",
   "mimetype": "text/x-python",
   "name": "python",
   "nbconvert_exporter": "python",
   "pygments_lexer": "ipython3",
   "version": "3.8.19"
  }
 },
 "nbformat": 4,
 "nbformat_minor": 2
}
