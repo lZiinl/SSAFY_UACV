{
 "cells": [
  {
   "cell_type": "code",
   "execution_count": 4,
   "metadata": {},
   "outputs": [],
   "source": [
    "import torch\n",
    "import numpy as np\n",
    "import librosa\n",
    "import sounddevice as sd\n",
    "from scipy.io.wavfile import write\n",
    "from torchvision import transforms\n",
    "from PIL import Image\n",
    "import torch.nn as nn\n",
    "import torchvision.models as models"
   ]
  },
  {
   "cell_type": "code",
   "execution_count": 5,
   "metadata": {},
   "outputs": [],
   "source": [
    "# GunshotClassifier 정의 (이전에 사용한 모델)\n",
    "class GunshotClassifier(nn.Module):\n",
    "    def __init__(self, num_classes):\n",
    "        super(GunshotClassifier, self).__init__()\n",
    "        self.model = models.resnet50(pretrained=True)\n",
    "        self.model.fc = nn.Linear(self.model.fc.in_features, num_classes)\n",
    "\n",
    "    def forward(self, x):\n",
    "        x = self.model(x)\n",
    "        return x"
   ]
  },
  {
   "cell_type": "code",
   "execution_count": 6,
   "metadata": {},
   "outputs": [],
   "source": [
    "# 멜 스펙트로그램 변환 함수\n",
    "def preprocess_audio(y, sr=22050, duration=1.0, n_mels=128):\n",
    "    # Pad audio to ensure it's at least as long as the desired duration\n",
    "    if len(y) < sr * duration:\n",
    "        y = np.pad(y, (0, sr * duration - len(y)), mode='constant')\n",
    "    # Take the first 1-second clip\n",
    "    y = y[:sr]\n",
    "    mel_spec = librosa.feature.melspectrogram(y=y, sr=sr, n_mels=n_mels)\n",
    "    mel_spec_db = librosa.power_to_db(mel_spec, ref=np.max)\n",
    "    return mel_spec_db"
   ]
  },
  {
   "cell_type": "code",
   "execution_count": 8,
   "metadata": {},
   "outputs": [
    {
     "name": "stderr",
     "output_type": "stream",
     "text": [
      "/tmp/ipykernel_17286/3881004154.py:4: FutureWarning: You are using `torch.load` with `weights_only=False` (the current default value), which uses the default pickle module implicitly. It is possible to construct malicious pickle data which will execute arbitrary code during unpickling (See https://github.com/pytorch/pytorch/blob/main/SECURITY.md#untrusted-models for more details). In a future release, the default value for `weights_only` will be flipped to `True`. This limits the functions that could be executed during unpickling. Arbitrary objects will no longer be allowed to be loaded via this mode unless they are explicitly allowlisted by the user via `torch.serialization.add_safe_globals`. We recommend you start setting `weights_only=True` for any use case where you don't have full control of the loaded file. Please open an issue on GitHub for any issues related to this experimental feature.\n",
      "  model.load_state_dict(torch.load('new_model.pth', map_location=torch.device('cpu')))\n"
     ]
    }
   ],
   "source": [
    "# 모델을 로드하고 평가 모드로 전환\n",
    "num_classes = 6  # 총기 클래스 수\n",
    "model = GunshotClassifier(num_classes=num_classes)\n",
    "model.load_state_dict(torch.load('new_model.pth', map_location=torch.device('cpu')))\n",
    "model.eval()\n",
    "\n",
    "# 데이터 증강 및 전처리 설정\n",
    "transform = transforms.Compose([\n",
    "    transforms.Resize((224, 224)),\n",
    "    transforms.ToTensor(),\n",
    "])"
   ]
  },
  {
   "cell_type": "code",
   "execution_count": 9,
   "metadata": {},
   "outputs": [],
   "source": [
    "# 샘플 음원을 예측하는 함수\n",
    "def predict_gunshot(y, model, transform, classes, sr=22050):\n",
    "    mel_spec_db = preprocess_audio(y, sr)\n",
    "    min_val = mel_spec_db.min()\n",
    "    max_val = mel_spec_db.max()\n",
    "    if max_val - min_val != 0:\n",
    "        mel_spec_db = (mel_spec_db - min_val) / (max_val - min_val)  # Normalize to [0, 1]\n",
    "    else:\n",
    "        mel_spec_db = np.zeros_like(mel_spec_db)\n",
    "    \n",
    "    mel_spec_db = (mel_spec_db * 255).astype(np.uint8)  # Scale to [0, 255]\n",
    "    image = Image.fromarray(mel_spec_db).convert('RGB')\n",
    "    image = transform(image).unsqueeze(0)  # Add batch dimension\n",
    "\n",
    "    with torch.no_grad():\n",
    "        outputs = model(image)\n",
    "        _, predicted = torch.max(outputs.data, 1)\n",
    "        predicted_class = classes[predicted.item()]\n",
    "\n",
    "    return predicted_class"
   ]
  },
  {
   "cell_type": "code",
   "execution_count": 10,
   "metadata": {},
   "outputs": [],
   "source": [
    "# 총기 클래스 리스트 (순서는 이전과 동일해야 함)\n",
    "classes = ['ACE', 'AKM', 'AUG', 'M416', 'M762', 'SCAR']"
   ]
  },
  {
   "cell_type": "code",
   "execution_count": 11,
   "metadata": {},
   "outputs": [],
   "source": [
    "# 마이크 입력을 통해 오디오 캡처 및 예측\n",
    "def record_and_predict(duration=1.0, sr=22050):\n",
    "    print(\"Recording...\")\n",
    "    y = sd.rec(int(duration * sr), samplerate=sr, channels=1, dtype='float32')\n",
    "    sd.wait()  # Wait until recording is finished\n",
    "    y = y.flatten()  # Flatten the array\n",
    "\n",
    "    predicted_class = predict_gunshot(y, model, transform, classes, sr)\n",
    "    print(f'The predicted gunshot class is: {predicted_class}')"
   ]
  },
  {
   "cell_type": "code",
   "execution_count": 12,
   "metadata": {},
   "outputs": [
    {
     "name": "stdout",
     "output_type": "stream",
     "text": [
      "Recording...\n",
      "The predicted gunshot class is: M416\n"
     ]
    }
   ],
   "source": [
    "# 1초 동안 녹음하고 예측\n",
    "record_and_predict(duration=2.0, sr=22050)"
   ]
  },
  {
   "cell_type": "code",
   "execution_count": null,
   "metadata": {},
   "outputs": [],
   "source": []
  }
 ],
 "metadata": {
  "kernelspec": {
   "display_name": "Python 3 (ipykernel)",
   "language": "python",
   "name": "python3"
  },
  "language_info": {
   "codemirror_mode": {
    "name": "ipython",
    "version": 3
   },
   "file_extension": ".py",
   "mimetype": "text/x-python",
   "name": "python",
   "nbconvert_exporter": "python",
   "pygments_lexer": "ipython3",
   "version": "3.8.10"
  }
 },
 "nbformat": 4,
 "nbformat_minor": 4
}
