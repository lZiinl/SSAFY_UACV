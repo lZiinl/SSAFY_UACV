{
 "cells": [
  {
   "cell_type": "code",
   "execution_count": 8,
   "metadata": {},
   "outputs": [],
   "source": [
    "import os\n",
    "import numpy as np\n",
    "import librosa\n",
    "import librosa.display\n",
    "from tqdm import tqdm"
   ]
  },
  {
   "cell_type": "code",
   "execution_count": 9,
   "metadata": {},
   "outputs": [],
   "source": [
    "def preprocess_audio(file_path, sr=22050, duration=1.0, n_mfcc=13, n_mels=128, max_len=44):\n",
    "    y, sr = librosa.load(file_path, sr=sr)\n",
    "    # Pad audio to ensure it's at least as long as the desired duration\n",
    "    if len(y) < sr * duration:\n",
    "        y = np.pad(y, (0, sr * duration - len(y)), mode='constant')\n",
    "    # Split into 1-second clips\n",
    "    clips = [y[i:i + sr] for i in range(0, len(y), sr)]\n",
    "    features = []\n",
    "    for clip in clips:\n",
    "        # Mel spectrogram\n",
    "        mel_spec = librosa.feature.melspectrogram(y=clip, sr=sr, n_mels=n_mels)\n",
    "        mel_spec_db = librosa.power_to_db(mel_spec, ref=np.max)\n",
    "        \n",
    "        # MFCC\n",
    "        mfcc = librosa.feature.mfcc(S=mel_spec_db, sr=sr, n_mfcc=n_mfcc)\n",
    "        mfcc = librosa.util.normalize(mfcc)  # Optional normalization\n",
    "        \n",
    "        # Concatenate Mel spectrogram and MFCC\n",
    "        combined = np.vstack([mel_spec_db, mfcc])\n",
    "        \n",
    "        # Pad or truncate to ensure fixed size\n",
    "        if combined.shape[1] < max_len:\n",
    "            combined = np.pad(combined, ((0, 0), (0, max_len - combined.shape[1])), mode='constant')\n",
    "        else:\n",
    "            combined = combined[:, :max_len]\n",
    "        \n",
    "        features.append(combined)\n",
    "    return features"
   ]
  },
  {
   "cell_type": "code",
   "execution_count": 10,
   "metadata": {},
   "outputs": [],
   "source": [
    "data_dir = 'C:/Users/SSAFY/Desktop/original_noise_data'\n",
    "save_dir = \"C:/Users/SSAFY/Desktop/noise_processed_combined_features\"\n",
    "os.makedirs(save_dir, exist_ok=True)"
   ]
  },
  {
   "cell_type": "code",
   "execution_count": 11,
   "metadata": {},
   "outputs": [
    {
     "name": "stderr",
     "output_type": "stream",
     "text": [
      "100%|██████████| 194/194 [00:11<00:00, 17.14it/s]\n"
     ]
    }
   ],
   "source": [
    "# 모든 파일에 대해 결합 특징 생성 및 저장\n",
    "for file_name in tqdm(os.listdir(data_dir)):\n",
    "    if file_name.endswith('.wav') or file_name.endswith('.mp3'):\n",
    "        file_path = os.path.join(data_dir, file_name)\n",
    "        features = preprocess_audio(file_path)\n",
    "        base_name = os.path.splitext(file_name)[0]\n",
    "        for i, feature in enumerate(features):\n",
    "            save_path = os.path.join(save_dir, f'{base_name}_{i}.npy')\n",
    "            np.save(save_path, feature)"
   ]
  },
  {
   "cell_type": "code",
   "execution_count": 12,
   "metadata": {},
   "outputs": [],
   "source": [
    "def augment_audio(data):\n",
    "    augmented_data = []\n",
    "    \n",
    "    # Original\n",
    "    augmented_data.append(data)\n",
    "    \n",
    "    # Reverse\n",
    "    reversed_data = np.flipud(data)\n",
    "    augmented_data.append(reversed_data)\n",
    "    \n",
    "    # Vertical flip\n",
    "    flipped_data = np.fliplr(data)\n",
    "    augmented_data.append(flipped_data)\n",
    "    \n",
    "    # Gaussian noise\n",
    "    noise = np.random.normal(0, 0.1, data.shape)\n",
    "    noisy_data = data + noise\n",
    "    augmented_data.append(noisy_data)\n",
    "    \n",
    "    return augmented_data"
   ]
  },
  {
   "cell_type": "code",
   "execution_count": 13,
   "metadata": {},
   "outputs": [],
   "source": [
    "augmented_save_dir = 'C:/Users/SSAFY/Desktop/noise_augmented_combined_features_noise'\n",
    "os.makedirs(augmented_save_dir, exist_ok=True)"
   ]
  },
  {
   "cell_type": "code",
   "execution_count": 14,
   "metadata": {},
   "outputs": [
    {
     "name": "stderr",
     "output_type": "stream",
     "text": [
      "100%|██████████| 1348/1348 [00:06<00:00, 220.26it/s]\n"
     ]
    }
   ],
   "source": [
    "# 모든 결합 특징 파일에 대해 데이터 증강\n",
    "for file_name in tqdm(os.listdir(save_dir)):\n",
    "    if file_name.endswith('.npy'):\n",
    "        file_path = os.path.join(save_dir, file_name)\n",
    "        data = np.load(file_path)\n",
    "        augmented_data = augment_audio(data)\n",
    "        base_name = os.path.splitext(file_name)[0]\n",
    "        for i, aug_data in enumerate(augmented_data):\n",
    "            save_path = os.path.join(augmented_save_dir, f'{base_name}_aug_{i}.npy')\n",
    "            np.save(save_path, aug_data)"
   ]
  },
  {
   "cell_type": "code",
   "execution_count": null,
   "metadata": {},
   "outputs": [],
   "source": []
  }
 ],
 "metadata": {
  "kernelspec": {
   "display_name": "sound",
   "language": "python",
   "name": "python3"
  },
  "language_info": {
   "codemirror_mode": {
    "name": "ipython",
    "version": 3
   },
   "file_extension": ".py",
   "mimetype": "text/x-python",
   "name": "python",
   "nbconvert_exporter": "python",
   "pygments_lexer": "ipython3",
   "version": "3.8.19"
  }
 },
 "nbformat": 4,
 "nbformat_minor": 2
}
